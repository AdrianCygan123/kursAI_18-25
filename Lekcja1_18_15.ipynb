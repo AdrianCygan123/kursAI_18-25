{
  "nbformat": 4,
  "nbformat_minor": 0,
  "metadata": {
    "colab": {
      "provenance": [],
      "authorship_tag": "ABX9TyOg4m3MJX5mtmt0om1OrX9Q",
      "include_colab_link": true
    },
    "kernelspec": {
      "name": "python3",
      "display_name": "Python 3"
    },
    "language_info": {
      "name": "python"
    }
  },
  "cells": [
    {
      "cell_type": "markdown",
      "metadata": {
        "id": "view-in-github",
        "colab_type": "text"
      },
      "source": [
        "<a href=\"https://colab.research.google.com/github/AdrianCygan123/kursAI_18-25/blob/main/Lekcja1_18_15.ipynb\" target=\"_parent\"><img src=\"https://colab.research.google.com/assets/colab-badge.svg\" alt=\"Open In Colab\"/></a>"
      ]
    },
    {
      "cell_type": "markdown",
      "source": [
        "# Wprowadzenie do Pythona\n",
        "*W tym rozdziale przedstawimy podstawowe elementy pythona*\n",
        "\n",
        "Link do dokumentacji: [Dokumentacja Python](https://www.python.org/)\n",
        "\n",
        "Omawiane elemnty:\n",
        "\n",
        "1. Zmienne\n",
        "2. Listy\n",
        "3. Pętle\n",
        "4. Słowniki i krotki\n",
        "5. Instrukcje warunkowe\n",
        "6. Funkcje\n",
        "7. Obsługa plików\n",
        "8. Obsługa wyjątków\n",
        "\n"
      ],
      "metadata": {
        "id": "5vcQRwns8rwl"
      }
    },
    {
      "cell_type": "code",
      "execution_count": 3,
      "metadata": {
        "colab": {
          "base_uri": "https://localhost:8080/"
        },
        "id": "sJDr6loJ6yxa",
        "outputId": "58c9c7e3-4328-465b-d719-5c96b2bb88c8"
      },
      "outputs": [
        {
          "output_type": "stream",
          "name": "stdout",
          "text": [
            "\u001b[33mhint: Using 'master' as the name for the initial branch. This default branch name\u001b[m\n",
            "\u001b[33mhint: is subject to change. To configure the initial branch name to use in all\u001b[m\n",
            "\u001b[33mhint: of your new repositories, which will suppress this warning, call:\u001b[m\n",
            "\u001b[33mhint: \u001b[m\n",
            "\u001b[33mhint: \tgit config --global init.defaultBranch <name>\u001b[m\n",
            "\u001b[33mhint: \u001b[m\n",
            "\u001b[33mhint: Names commonly chosen instead of 'master' are 'main', 'trunk' and\u001b[m\n",
            "\u001b[33mhint: 'development'. The just-created branch can be renamed via this command:\u001b[m\n",
            "\u001b[33mhint: \u001b[m\n",
            "\u001b[33mhint: \tgit branch -m <name>\u001b[m\n",
            "Initialized empty Git repository in /content/.git/\n"
          ]
        }
      ],
      "source": [
        "!git init\n",
        "!git config --global user.name \"AdrianCygan123\"\n",
        "!git config --global user.email \"adrian.cygan9@gmail.com\""
      ]
    },
    {
      "cell_type": "code",
      "source": [
        "!git add ."
      ],
      "metadata": {
        "id": "FEVWTnrcFRVK"
      },
      "execution_count": 4,
      "outputs": []
    },
    {
      "cell_type": "code",
      "source": [
        "!git commit -m \"Inicjalizacja projektu\""
      ],
      "metadata": {
        "colab": {
          "base_uri": "https://localhost:8080/"
        },
        "id": "u6pIyvmiGOGf",
        "outputId": "401d084c-b639-48e8-e03c-73eb0dccd0e7"
      },
      "execution_count": 5,
      "outputs": [
        {
          "output_type": "stream",
          "name": "stdout",
          "text": [
            "[master (root-commit) 6c32abb] Inicjalizacja projektu\n",
            " 21 files changed, 51025 insertions(+)\n",
            " create mode 100644 .config/.last_opt_in_prompt.yaml\n",
            " create mode 100644 .config/.last_survey_prompt.yaml\n",
            " create mode 100644 .config/.last_update_check.json\n",
            " create mode 100644 .config/active_config\n",
            " create mode 100644 .config/config_sentinel\n",
            " create mode 100644 .config/configurations/config_default\n",
            " create mode 100644 .config/default_configs.db\n",
            " create mode 100644 .config/gce\n",
            " create mode 100644 .config/hidden_gcloud_config_universe_descriptor_data_cache_configs.db\n",
            " create mode 100644 .config/logs/2025.10.02/13.35.08.924114.log\n",
            " create mode 100644 .config/logs/2025.10.02/13.35.48.839372.log\n",
            " create mode 100644 .config/logs/2025.10.02/13.35.57.498101.log\n",
            " create mode 100644 .config/logs/2025.10.02/13.36.03.080584.log\n",
            " create mode 100644 .config/logs/2025.10.02/13.36.11.709641.log\n",
            " create mode 100644 .config/logs/2025.10.02/13.36.12.428243.log\n",
            " create mode 100755 sample_data/README.md\n",
            " create mode 100755 sample_data/anscombe.json\n",
            " create mode 100644 sample_data/california_housing_test.csv\n",
            " create mode 100644 sample_data/california_housing_train.csv\n",
            " create mode 100644 sample_data/mnist_test.csv\n",
            " create mode 100644 sample_data/mnist_train_small.csv\n"
          ]
        }
      ]
    },
    {
      "cell_type": "code",
      "source": [
        "!git branch -M main"
      ],
      "metadata": {
        "id": "FrwLLiqlHIAd"
      },
      "execution_count": 6,
      "outputs": []
    },
    {
      "cell_type": "code",
      "source": [
        "!git remote add origin https://<PAT>@github.com/AdrianCygan123/kursAI_18-25.git"
      ],
      "metadata": {
        "id": "iI9fv3QmIOD7"
      },
      "execution_count": 7,
      "outputs": []
    },
    {
      "cell_type": "code",
      "source": [
        "!git push -u origin main"
      ],
      "metadata": {
        "colab": {
          "base_uri": "https://localhost:8080/"
        },
        "id": "UVkEE8nAIw-0",
        "outputId": "bf7cea77-f905-4433-9391-dffeba1c9a7b"
      },
      "execution_count": 8,
      "outputs": [
        {
          "output_type": "stream",
          "name": "stdout",
          "text": [
            "Enumerating objects: 28, done.\n",
            "Counting objects:   3% (1/28)\rCounting objects:   7% (2/28)\rCounting objects:  10% (3/28)\rCounting objects:  14% (4/28)\rCounting objects:  17% (5/28)\rCounting objects:  21% (6/28)\rCounting objects:  25% (7/28)\rCounting objects:  28% (8/28)\rCounting objects:  32% (9/28)\rCounting objects:  35% (10/28)\rCounting objects:  39% (11/28)\rCounting objects:  42% (12/28)\rCounting objects:  46% (13/28)\rCounting objects:  50% (14/28)\rCounting objects:  53% (15/28)\rCounting objects:  57% (16/28)\rCounting objects:  60% (17/28)\rCounting objects:  64% (18/28)\rCounting objects:  67% (19/28)\rCounting objects:  71% (20/28)\rCounting objects:  75% (21/28)\rCounting objects:  78% (22/28)\rCounting objects:  82% (23/28)\rCounting objects:  85% (24/28)\rCounting objects:  89% (25/28)\rCounting objects:  92% (26/28)\rCounting objects:  96% (27/28)\rCounting objects: 100% (28/28)\rCounting objects: 100% (28/28), done.\n",
            "Delta compression using up to 2 threads\n",
            "Compressing objects: 100% (21/21), done.\n",
            "Writing objects: 100% (28/28), 8.42 MiB | 1.48 MiB/s, done.\n",
            "Total 28 (delta 5), reused 0 (delta 0), pack-reused 0\n",
            "remote: Resolving deltas: 100% (5/5), done.\u001b[K\n",
            "To https://github.com/AdrianCygan123/kursAI_18-25.git\n",
            " * [new branch]      main -> main\n",
            "Branch 'main' set up to track remote branch 'main' from 'origin'.\n"
          ]
        }
      ]
    },
    {
      "cell_type": "code",
      "source": [
        "#Print + zmienne\n",
        "liczba = 5\n",
        "zmiennoprzecinkowa = 6.9\n",
        "napis = \"TEKST\"\n",
        "logiczna = False\n",
        "print(\"siema\")\n",
        "print(liczba)\n",
        "print(f\"Wynik zmiennej liczba: {liczba}, wynik zmiennej napis: {napis}\")\n",
        "print(\"Wynik zmiennej liczba:\",liczba, \"wynik zmiennej napis:\", napis)"
      ],
      "metadata": {
        "colab": {
          "base_uri": "https://localhost:8080/"
        },
        "id": "0mHJAFELLgmE",
        "outputId": "8a207977-86f3-45a2-90d7-5665f1e442ba"
      },
      "execution_count": 17,
      "outputs": [
        {
          "output_type": "stream",
          "name": "stdout",
          "text": [
            "siema\n",
            "5\n",
            "Wynik zmiennej liczba: 5, wynik zmiennej napis: TEKST\n",
            "Wynik zmiennej liczba: 5 wynik zmiennej napis: TEKST\n"
          ]
        }
      ]
    },
    {
      "cell_type": "code",
      "source": [
        "#Listy + pętla for\n",
        "lista = [1, \"pies\", \"kot\"]\n",
        "#print(lista)\n",
        "#print(lista[1])\n",
        "\"\"\"\n",
        "for i in lista:\n",
        "  print(i)\n",
        "\n",
        "for i in range(len(lista)):\n",
        "  print(lista[i])\n",
        "\"\"\"\n",
        "#for i in range(6):\n",
        "  #print(i)\n",
        "\n"
      ],
      "metadata": {
        "colab": {
          "base_uri": "https://localhost:8080/"
        },
        "id": "YMLHPKbGNGkY",
        "outputId": "95d1655b-9b30-4aa1-e4c7-2d4c562cdf0a"
      },
      "execution_count": 28,
      "outputs": [
        {
          "output_type": "stream",
          "name": "stdout",
          "text": [
            "0\n",
            "1\n",
            "2\n",
            "3\n",
            "4\n",
            "5\n"
          ]
        }
      ]
    }
  ]
}